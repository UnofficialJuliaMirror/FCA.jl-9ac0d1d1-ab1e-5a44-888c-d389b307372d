{
 "cells": [
  {
   "cell_type": "code",
   "execution_count": 1,
   "metadata": {},
   "outputs": [
    {
     "name": "stderr",
     "output_type": "stream",
     "text": [
      "┌ Info: Recompiling stale cache file C:\\Users\\Hao Wu\\.julia\\compiled\\v1.0\\FCA\\bABXD.ji for FCA [7d5165da-9cd4-5962-a300-0a643be0618e]\n",
      "└ @ Base loading.jl:1190\n",
      "┌ Warning: Package FCA does not have Combinatorics in its dependencies:\n",
      "│ - If you have FCA checked out for development and have\n",
      "│   added Combinatorics as a dependency but haven't updated your primary\n",
      "│   environment's manifest file, try `Pkg.resolve()`.\n",
      "│ - Otherwise you may need to report an issue with FCA\n",
      "└ Loading Combinatorics into FCA from project dependency, future warnings for FCA are suppressed.\n"
     ]
    }
   ],
   "source": [
    "using FCA, Combinatorics, LinearAlgebra, Statistics"
   ]
  },
  {
   "cell_type": "markdown",
   "metadata": {},
   "source": [
    "## DCT and DST orthogonal matrix"
   ]
  },
  {
   "cell_type": "code",
   "execution_count": 2,
   "metadata": {},
   "outputs": [
    {
     "data": {
      "text/plain": [
       "dctmtx (generic function with 1 method)"
      ]
     },
     "execution_count": 2,
     "metadata": {},
     "output_type": "execute_result"
    }
   ],
   "source": [
    "function dctmtx(n)\n",
    "    cc, rr = [j for i = 0: n - 1, j = 0: n-1], [i for i = 0: n - 1, j = 0: n-1]\n",
    "    c = sqrt(2 / n) * cos.(pi * (2*cc .+ 1) .* rr / (2 * n));\n",
    "    c[1,:] = c[1,:] / sqrt(2);\n",
    "    return c\n",
    "end\n",
    "\n"
   ]
  },
  {
   "cell_type": "code",
   "execution_count": 3,
   "metadata": {},
   "outputs": [
    {
     "data": {
      "text/plain": [
       "dstmtx (generic function with 1 method)"
      ]
     },
     "execution_count": 3,
     "metadata": {},
     "output_type": "execute_result"
    }
   ],
   "source": [
    "function dstmtx(n)\n",
    "    cc, rr = [j for i = 0: n - 1, j = 0: n-1], [i for i = 0: n - 1, j = 0: n-1]\n",
    "    c = sqrt(2 / n) * sin.(pi * (2*cc .+ 1) .* (rr .+ 1) / (2 * n));\n",
    "    c[n,:] = c[n,:] / sqrt(2);\n",
    "    return c\n",
    "end"
   ]
  },
  {
   "cell_type": "markdown",
   "metadata": {},
   "source": [
    "## Image denoise"
   ]
  },
  {
   "cell_type": "code",
   "execution_count": 4,
   "metadata": {},
   "outputs": [
    {
     "data": {
      "text/plain": [
       "trial (generic function with 1 method)"
      ]
     },
     "execution_count": 4,
     "metadata": {},
     "output_type": "execute_result"
    }
   ],
   "source": [
    "function trial(N, lambda)\n",
    "    # generate image \n",
    "    M = Int(ceil(N/lambda));\n",
    "    U,V = dstmtx(N), dctmtx(M);\n",
    "    D = Diagonal(map(x -> (x - 1)^4, range(1/2/N, length=N, stop=1-1/2/N)))\n",
    "    D = hcat(D, zeros(N, M - N))\n",
    "    image = U*D*V';\n",
    "    image = free_whiten([image]; mat = \"rec\")[1][1];\n",
    "    \n",
    "    # generate noise\n",
    "    noise = randn(N,M);\n",
    "    noise = free_whiten([noise]; mat = \"rec\")[1][1];\n",
    "    \n",
    "    X = [image, noise];\n",
    "    Q = [1 1; -1 1]/sqrt(2);\n",
    "    \n",
    "    Y = Q*X;\n",
    "    \n",
    "    # use kurtosis-based FCA\n",
    "    Qinv_kurt, _ = freecf(Y; mat = \"rec\", obj = \"kurt\", opt = \"orth\");\n",
    "    err_kurt = err_pd(pinv(Qinv_kurt)*Q)\n",
    "    \n",
    "    # use entropy-based FCA\n",
    "    Qinv_ent, _ = freecf(Y; mat = \"rec\", obj = \"ent\", opt = \"orth\");\n",
    "    err_ent = err_pd(pinv(Qinv_ent)*Q)\n",
    "    \n",
    "    # use kurtosis-based ICA\n",
    "    y = [vec(Yi) for Yi in Y]\n",
    "    Qinv_ica, _ = icf(y; opt = \"orth\")\n",
    "    err_ica = err_pd(pinv(Qinv_ica)*Q)\n",
    "    \n",
    "    return err_kurt, err_ent, err_ica\n",
    "end"
   ]
  },
  {
   "cell_type": "code",
   "execution_count": null,
   "metadata": {},
   "outputs": [
    {
     "name": "stdout",
     "output_type": "stream",
     "text": [
      "trial_idx = 1\n",
      "trial_idx = 2\n",
      "trial_idx = 3\n",
      "trial_idx = 4\n"
     ]
    },
    {
     "name": "stderr",
     "output_type": "stream",
     "text": [
      "┌ Warning: Linesearch failed, using alpha = 0.0 and exiting optimization.\n",
      "│ The linesearch exited with message:\n",
      "│ Linesearch failed to converge, reached maximum iterations 50.\n",
      "└ @ Optim C:\\Users\\Hao Wu\\.julia\\packages\\Optim\\Agd3B\\src\\utilities\\perform_linesearch.jl:47\n"
     ]
    }
   ],
   "source": [
    "trialsize = 200;\n",
    "Nlist = [Int64(ceil(2^pow)) for pow in collect(range(7, length = 5, stop = 9))]\n",
    "lambda = 4/5;\n",
    "err_kurt_record = zeros(size(Nlist, 1), trialsize);\n",
    "err_ent_record = zeros(size(Nlist, 1), trialsize);\n",
    "err_ica_record = zeros(size(Nlist, 1), trialsize);\n",
    "\n",
    "for trial_idx in 1: trialsize\n",
    "    @show trial_idx\n",
    "    for N_idx in 1:length(Nlist)\n",
    "        N = Nlist[N_idx]\n",
    "        err_kurt, err_ent, err_ica = trial(N, lambda)\n",
    "        err_kurt_record[N_idx, trial_idx] = err_kurt\n",
    "        err_ent_record[N_idx, trial_idx] = err_ent\n",
    "        err_ica_record[N_idx, trial_idx] = err_ica\n",
    "    end\n",
    "end"
   ]
  },
  {
   "cell_type": "code",
   "execution_count": null,
   "metadata": {},
   "outputs": [],
   "source": []
  }
 ],
 "metadata": {
  "kernelspec": {
   "display_name": "Julia 1.0.3",
   "language": "julia",
   "name": "julia-1.0"
  },
  "language_info": {
   "file_extension": ".jl",
   "mimetype": "application/julia",
   "name": "julia",
   "version": "1.0.3"
  }
 },
 "nbformat": 4,
 "nbformat_minor": 2
}
