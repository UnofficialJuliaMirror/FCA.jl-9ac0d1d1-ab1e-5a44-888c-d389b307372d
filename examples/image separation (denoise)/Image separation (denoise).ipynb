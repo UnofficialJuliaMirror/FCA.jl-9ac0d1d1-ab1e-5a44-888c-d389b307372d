{
 "cells": [
  {
   "cell_type": "markdown",
   "metadata": {
    "deletable": false,
    "editable": false,
    "jbook": {
     "class": "TextCell",
     "current_ui_view": "student",
     "readonly": true,
     "section_id": "section_0",
     "sources": {
      "student": "<h1>Table of Contents<span class=\"tocSkip\"></span></h1>\n<div class=\"toc\"><ul class=\"toc-item\"></ul></div>"
     }
    },
    "slideshow": {
     "slide_type": "slide"
    },
    "toc": true
   },
   "source": [
    "<h1>Table of Contents<span class=\"tocSkip\"></span></h1>\n",
    "<div class=\"toc\"><ul class=\"toc-item\"></ul></div>"
   ]
  },
  {
   "cell_type": "code",
   "execution_count": 5,
   "metadata": {
    "deletable": false,
    "jbook": {
     "class": "CodeCell",
     "current_ui_view": "student",
     "section_id": "section_0",
     "sources": {
      "student": "include(\"../src/my_fcf.jl\")\nusing my_fcf\nusing Colors, Images, FileIO, Plots\nplotly()"
     }
    },
    "slideshow": {
     "slide_type": "slide"
    }
   },
   "outputs": [
    {
     "name": "stderr",
     "output_type": "stream",
     "text": [
      "┌ Info: Recompiling stale cache file /Users/haowurm/.julia/compiled/v1.0/my_fcf.ji for my_fcf [top-level]\n",
      "└ @ Base loading.jl:1190\n",
      "WARNING: Method definition κ₄(Any) in module my_fcf at /Users/haowurm/Dropbox/ica/hao_freeca/my_fcf/src/loss.jl:23 overwritten at /Users/haowurm/Dropbox/ica/hao_freeca/my_fcf/src/loss.jl:23.\n",
      "WARNING: Method definition neg_abs_sum_free_kurt(Any) in module my_fcf at /Users/haowurm/Dropbox/ica/hao_freeca/my_fcf/src/loss.jl:47 overwritten at /Users/haowurm/Dropbox/ica/hao_freeca/my_fcf/src/loss.jl:47.\n",
      "WARNING: Method definition free_ent(Any) in module my_fcf at /Users/haowurm/Dropbox/ica/hao_freeca/my_fcf/src/loss.jl:69 overwritten at /Users/haowurm/Dropbox/ica/hao_freeca/my_fcf/src/loss.jl:69.\n",
      "WARNING: Method definition #free_ent(Any, typeof(my_fcf.free_ent), Any) in module my_fcf overwritten.\n",
      "WARNING: Method definition sum_free_ent(Any) in module my_fcf at /Users/haowurm/Dropbox/ica/hao_freeca/my_fcf/src/loss.jl:107 overwritten at /Users/haowurm/Dropbox/ica/hao_freeca/my_fcf/src/loss.jl:107.\n",
      "WARNING: Method definition #sum_free_ent(Any, typeof(my_fcf.sum_free_ent), Any) in module my_fcf overwritten.\n",
      "WARNING: Method definition κ₄(Any) in module my_fcf at /Users/haowurm/Dropbox/ica/hao_freeca/my_fcf/src/loss.jl:23 overwritten at /Users/haowurm/Dropbox/ica/hao_freeca/my_fcf/src/loss.jl:23.\n",
      "WARNING: Method definition neg_abs_sum_free_kurt(Any) in module my_fcf at /Users/haowurm/Dropbox/ica/hao_freeca/my_fcf/src/loss.jl:47 overwritten at /Users/haowurm/Dropbox/ica/hao_freeca/my_fcf/src/loss.jl:47.\n",
      "WARNING: Method definition free_ent(Any) in module my_fcf at /Users/haowurm/Dropbox/ica/hao_freeca/my_fcf/src/loss.jl:69 overwritten at /Users/haowurm/Dropbox/ica/hao_freeca/my_fcf/src/loss.jl:69.\n",
      "WARNING: Method definition #free_ent(Any, typeof(my_fcf.free_ent), Any) in module my_fcf overwritten.\n",
      "WARNING: Method definition sum_free_ent(Any) in module my_fcf at /Users/haowurm/Dropbox/ica/hao_freeca/my_fcf/src/loss.jl:107 overwritten at /Users/haowurm/Dropbox/ica/hao_freeca/my_fcf/src/loss.jl:107.\n",
      "WARNING: Method definition #sum_free_ent(Any, typeof(my_fcf.sum_free_ent), Any) in module my_fcf overwritten.\n",
      "WARNING: Method definition grad_neg_abs_sum_free_kurt(Any, Any) in module my_fcf at /Users/haowurm/Dropbox/ica/hao_freeca/my_fcf/src/gradient.jl:24 overwritten at /Users/haowurm/Dropbox/ica/hao_freeca/my_fcf/src/gradient.jl:24.\n",
      "WARNING: Method definition grad_sum_free_ent(Any, Any) in module my_fcf at /Users/haowurm/Dropbox/ica/hao_freeca/my_fcf/src/gradient.jl:72 overwritten at /Users/haowurm/Dropbox/ica/hao_freeca/my_fcf/src/gradient.jl:72.\n",
      "WARNING: Method definition #grad_sum_free_ent(Any, typeof(my_fcf.grad_sum_free_ent), Any, Any) in module my_fcf overwritten.\n",
      "WARNING: Method definition κ₄(Any) in module my_fcf at /Users/haowurm/Dropbox/ica/hao_freeca/my_fcf/src/loss.jl:23 overwritten at /Users/haowurm/Dropbox/ica/hao_freeca/my_fcf/src/loss.jl:23.\n",
      "WARNING: Method definition neg_abs_sum_free_kurt(Any) in module my_fcf at /Users/haowurm/Dropbox/ica/hao_freeca/my_fcf/src/loss.jl:47 overwritten at /Users/haowurm/Dropbox/ica/hao_freeca/my_fcf/src/loss.jl:47.\n",
      "WARNING: Method definition free_ent(Any) in module my_fcf at /Users/haowurm/Dropbox/ica/hao_freeca/my_fcf/src/loss.jl:69 overwritten at /Users/haowurm/Dropbox/ica/hao_freeca/my_fcf/src/loss.jl:69.\n",
      "WARNING: Method definition #free_ent(Any, typeof(my_fcf.free_ent), Any) in module my_fcf overwritten.\n",
      "WARNING: Method definition sum_free_ent(Any) in module my_fcf at /Users/haowurm/Dropbox/ica/hao_freeca/my_fcf/src/loss.jl:107 overwritten at /Users/haowurm/Dropbox/ica/hao_freeca/my_fcf/src/loss.jl:107.\n",
      "WARNING: Method definition #sum_free_ent(Any, typeof(my_fcf.sum_free_ent), Any) in module my_fcf overwritten.\n",
      "WARNING: Method definition OptOrtho(Any, Any, Any) in module my_fcf at /Users/haowurm/Dropbox/ica/hao_freeca/my_fcf/src/orthopt.jl:25 overwritten at /Users/haowurm/Dropbox/ica/hao_freeca/my_fcf/src/orthopt.jl:25.\n",
      "WARNING: Method definition OptSphere(Any, Any, Any) in module my_fcf at /Users/haowurm/Dropbox/ica/hao_freeca/my_fcf/src/orthopt.jl:64 overwritten at /Users/haowurm/Dropbox/ica/hao_freeca/my_fcf/src/orthopt.jl:64.\n",
      "WARNING: Method definition mat_center(Array{T<:Number, 2}) where {T<:Number} in module my_fcf at /Users/haowurm/Dropbox/ica/hao_freeca/my_fcf/src/free_whiten.jl:24 overwritten at /Users/haowurm/Dropbox/ica/hao_freeca/my_fcf/src/free_whiten.jl:24.\n",
      "WARNING: Method definition #mat_center(Any, typeof(my_fcf.mat_center), Array{T<:Number, 2}) where {T<:Number} in module my_fcf overwritten.\n",
      "WARNING: Method definition free_whiten(Array{Array{T<:Number, 2}, N} where N) where {T<:Number} in module my_fcf at /Users/haowurm/Dropbox/ica/hao_freeca/my_fcf/src/free_whiten.jl:60 overwritten at /Users/haowurm/Dropbox/ica/hao_freeca/my_fcf/src/free_whiten.jl:60.\n",
      "WARNING: Method definition #free_whiten(Any, typeof(my_fcf.free_whiten), Array{Array{T<:Number, 2}, N} where N) where {T<:Number} in module my_fcf overwritten.\n",
      "WARNING: Method definition free_whiten(Array{T<:Number, 2}) where {T<:Number} in module my_fcf at /Users/haowurm/Dropbox/ica/hao_freeca/my_fcf/src/free_whiten.jl:75 overwritten at /Users/haowurm/Dropbox/ica/hao_freeca/my_fcf/src/free_whiten.jl:75.\n",
      "WARNING: Method definition #free_whiten(Any, typeof(my_fcf.free_whiten), Array{T<:Number, 2}) where {T<:Number} in module my_fcf overwritten.\n",
      "WARNING: Method definition OptOrtho(Any, Any, Any) in module my_fcf at /Users/haowurm/Dropbox/ica/hao_freeca/my_fcf/src/orthopt.jl:25 overwritten at /Users/haowurm/Dropbox/ica/hao_freeca/my_fcf/src/orthopt.jl:25.\n",
      "WARNING: Method definition OptSphere(Any, Any, Any) in module my_fcf at /Users/haowurm/Dropbox/ica/hao_freeca/my_fcf/src/orthopt.jl:64 overwritten at /Users/haowurm/Dropbox/ica/hao_freeca/my_fcf/src/orthopt.jl:64.\n",
      "┌ Info: Recompiling stale cache file /Users/haowurm/.julia/compiled/v1.0/Images/H8Vxc.ji for Images [916415d5-f1e6-5110-898d-aaa5f9f070e0]\n",
      "└ @ Base loading.jl:1190\n",
      "WARNING: Method definition _bcs1(Any, Any) in module Broadcast at broadcast.jl:439 overwritten in module ImageFiltering at /Users/haowurm/.julia/packages/ImageFiltering/qNVTb/src/ImageFiltering.jl:23.\n",
      "WARNING: Method definition _bcs1(Any, Any) in module Broadcast at broadcast.jl:439 overwritten in module ImageFiltering at /Users/haowurm/.julia/packages/ImageFiltering/qNVTb/src/ImageFiltering.jl:23.\n"
     ]
    }
   ],
   "source": [
    "push!(LOAD_PATH, \"../../src\")\n",
    "using my_fcf\n",
    "using Colors, Images, FileIO, Plots, Statistics"
   ]
  },
  {
   "cell_type": "code",
   "execution_count": null,
   "metadata": {
    "deletable": false,
    "jbook": {
     "class": "CodeCell",
     "current_ui_view": "student",
     "section_id": "section_0",
     "sources": {
      "student": "# import the panda image\nimage = \"images/panda.jpg\"; # also try images/locust.jpg\nI1 = Float64.(Gray.(load(image)))\n\n# generate the white noise, match the variance\nI2 = randn(size(I1))*std(I1)\n\n# plot the original image and noise\np1 = heatmap(I1, yflip=true, color=:grays, aspect_ratio=:equal, title=\"I1\")\np2 = heatmap(I2, yflip=true, color=:grays, aspect_ratio=:equal, title=\"I2\")\nplot(p1, p2; size=(800, 300))"
     }
    },
    "slideshow": {
     "slide_type": "slide"
    }
   },
   "outputs": [],
   "source": [
    "# import the panda image\n",
    "image1 = \"../images/panda.jpg\"; # also try images/locust.jpg\n",
    "I1 = Float64.(Gray.(load(image1)))\n",
    "\n",
    "# generate the white noise, match the variance\n",
    "image2 = \"../images/locust.jpg\"\n",
    "I2 = Float64.(Gray.(load(image2)))\n",
    "I2 = imresize(I2, size(I1))\n",
    "# for denoise\n",
    "# I2 = randn(size(I1))*std(I1) \n",
    "\n",
    "# plot the original image and noise\n",
    "p1 = heatmap(I1, yflip=true, color=:grays, aspect_ratio=:equal, title=\"I1\")\n",
    "p2 = heatmap(I2, yflip=true, color=:grays, aspect_ratio=:equal, title=\"I2\")\n",
    "plot(p1, p2; size=(800, 300))"
   ]
  },
  {
   "cell_type": "code",
   "execution_count": null,
   "metadata": {
    "deletable": false,
    "jbook": {
     "class": "CodeCell",
     "current_ui_view": "student",
     "section_id": "section_0",
     "sources": {
      "student": "X = [I1, I2]\nI1 = 0.0\nI2 = 0.0 ## this clears I1 and I2 from memory\ngc()\n\n# mixing matrix\nA = [0.5 0.5; 0.5 -0.5]\nZ = A*X\n\n# normalize the mixed images for plot\nmixed1 = Z[1]/maximum(Z[1])\nmixed2 = Z[2]/maximum(Z[2])\n\n# plot the mixed images\np3 = heatmap(mixed1, yflip=true, color=:grays, aspect_ratio=:equal, title=\"Mixed Image 1\")\np4 = heatmap(mixed2, yflip=true, color=:grays, aspect_ratio=:equal, title=\"Mixed Image 2\")\n\n# release the memory\nmixed1, mixed2 = 0.0, 0.0\n\n# show the plot\nplot(p3, p4; size=(800, 300))"
     }
    },
    "slideshow": {
     "slide_type": "slide"
    }
   },
   "outputs": [],
   "source": [
    "X = [I1, I2]\n",
    "I1 = 0.0\n",
    "I2 = 0.0 ## this clears I1 and I2 from memory\n",
    "\n",
    "# mixing matrix\n",
    "A = [0.5 0.5; 0.5 -0.5]\n",
    "Z = A*X\n",
    "\n",
    "# normalize the mixed images for plot\n",
    "mixed1 = Z[1]/maximum(Z[1])\n",
    "mixed2 = Z[2]/maximum(Z[2])\n",
    "\n",
    "# plot the mixed images\n",
    "p3 = heatmap(mixed1, yflip=true, color=:grays, aspect_ratio=:equal, title=\"Mixed Image 1\")\n",
    "p4 = heatmap(mixed2, yflip=true, color=:grays, aspect_ratio=:equal, title=\"Mixed Image 2\")\n",
    "\n",
    "# release the memory\n",
    "mixed1, mixed2 = 0.0, 0.0\n",
    "\n",
    "# show the plot\n",
    "plot(p3, p4; size=(800, 300))"
   ]
  },
  {
   "cell_type": "code",
   "execution_count": null,
   "metadata": {
    "deletable": false,
    "jbook": {
     "class": "CodeCell",
     "current_ui_view": "student",
     "section_id": "section_0",
     "sources": {
      "student": "# Apply kurtosis-based freecf to unmix the images\n@time Afca, Xfca = freecf(Z; mat_type = \"rec\")\n\n# release the memory\nZ = 0.0\n\ngc()\n \n# normalized the unmixed images \nunmixed1 = Xfca[1]/maximum(Xfca[1])\nunmixed2 = Xfca[2]/maximum(Xfca[2])\n\n# plot the unmixed images\np5 = heatmap(unmixed1, yflip=true, color=:grays, aspect_ratio=:equal, title=\"Unmixed Image 1\")\np6 = heatmap(unmixed2, yflip=true, color=:grays, aspect_ratio=:equal, title=\"Unmixed Image 2\")\n\nunmixed1 = 0.0\nunmixed2 = 0.0\n\n# show the unmixed images together with the mixed ones\nplot(p3, p4, p5, p6; layout=4, size=(800, 800))\n\n"
     }
    },
    "slideshow": {
     "slide_type": "slide"
    }
   },
   "outputs": [],
   "source": [
    "# Apply kurtosis-based freecf to unmix the images\n",
    "@time Afca, Xfca = freecf(Z; mat_type = \"rec\")\n",
    "\n",
    "# release the memory\n",
    "Z = 0.0\n",
    " \n",
    "# normalized the unmixed images \n",
    "unmixed1 = Xfca[1]/maximum(Xfca[1])\n",
    "unmixed2 = Xfca[2]/maximum(Xfca[2])\n",
    "\n",
    "# plot the unmixed images\n",
    "p5 = heatmap(unmixed1, yflip=true, color=:grays, aspect_ratio=:equal, title=\"Unmixed Image 1\")\n",
    "p6 = heatmap(unmixed2, yflip=true, color=:grays, aspect_ratio=:equal, title=\"Unmixed Image 2\")\n",
    "\n",
    "unmixed1 = 0.0\n",
    "unmixed2 = 0.0\n",
    "\n",
    "# show the unmixed images together with the mixed ones\n",
    "plot(p5, p6; layout=2, size=(800, 300))\n",
    "\n"
   ]
  },
  {
   "cell_type": "code",
   "execution_count": null,
   "metadata": {
    "deletable": false,
    "jbook": {
     "class": "CodeCell",
     "current_ui_view": "student",
     "section_id": "section_0",
     "sources": {
      "student": ""
     }
    },
    "slideshow": {
     "slide_type": "slide"
    }
   },
   "outputs": [],
   "source": []
  }
 ],
 "metadata": {
  "jbook": {
   "sections": [
    {
     "name": "section_0"
    }
   ]
  },
  "kernelspec": {
   "display_name": "Julia 1.0.3",
   "language": "julia",
   "name": "julia-1.0"
  },
  "language_info": {
   "file_extension": ".jl",
   "mimetype": "application/julia",
   "name": "julia",
   "version": "1.0.3"
  },
  "toc": {
   "base_numbering": 1,
   "nav_menu": {},
   "number_sections": true,
   "sideBar": true,
   "skip_h1_title": false,
   "title_cell": "Table of Contents",
   "title_sidebar": "Contents",
   "toc_cell": true,
   "toc_position": {},
   "toc_section_display": true,
   "toc_window_display": false
  }
 },
 "nbformat": 4,
 "nbformat_minor": 2
}
