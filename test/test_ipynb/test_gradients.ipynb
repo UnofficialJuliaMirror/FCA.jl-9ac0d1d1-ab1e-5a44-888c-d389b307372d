{
 "cells": [
  {
   "cell_type": "code",
   "execution_count": 1,
   "metadata": {},
   "outputs": [
    {
     "data": {
      "text/plain": [
       "grad_sum_free_ent (generic function with 1 method)"
      ]
     },
     "execution_count": 1,
     "metadata": {},
     "output_type": "execute_result"
    }
   ],
   "source": [
    "using ForwardDiff, Printf, Test\n",
    "include(\"../src/loss.jl\")\n",
    "include(\"../src/gradient.jl\")"
   ]
  },
  {
   "cell_type": "code",
   "execution_count": 2,
   "metadata": {},
   "outputs": [
    {
     "data": {
      "text/plain": [
       "rel_error (generic function with 1 method)"
      ]
     },
     "execution_count": 2,
     "metadata": {},
     "output_type": "execute_result"
    }
   ],
   "source": [
    "function rel_error(x, y)\n",
    "  \"\"\" returns relative error \"\"\"\n",
    "    return findmax(abs.(x - y) ./ (max.(1e-8, abs.(x) + abs.(y))))[1]\n",
    "end"
   ]
  },
  {
   "cell_type": "markdown",
   "metadata": {},
   "source": [
    "# Kurtosis gradients"
   ]
  },
  {
   "cell_type": "code",
   "execution_count": 3,
   "metadata": {},
   "outputs": [
    {
     "data": {
      "text/plain": [
       "test_grad_kurt (generic function with 1 method)"
      ]
     },
     "execution_count": 3,
     "metadata": {},
     "output_type": "execute_result"
    }
   ],
   "source": [
    "## We use ForwardDiff to compute the grad of neg_abs_sum_free_kurt(W'*Y) w.r.t to W\n",
    "## and compute the relative error with the grad from \n",
    "## grad_sneg_abs_sum_free_kurt(W, Y) \n",
    "function test_grad_kurt()\n",
    "    s = 3\n",
    "    Y = [randn(10,20) for i = 1: s]\n",
    "    W = randn(s, s)\n",
    "    e = rel_error(ForwardDiff.gradient(x -> neg_abs_sum_free_kurt(x'*Y), W)\n",
    "        , grad_neg_abs_sum_free_kurt(W, Y))\n",
    "    return e\n",
    "end"
   ]
  },
  {
   "cell_type": "code",
   "execution_count": 4,
   "metadata": {},
   "outputs": [],
   "source": [
    "for idx = 1:10\n",
    "    @test test_grad_kurt() < 1e-8\n",
    "end"
   ]
  },
  {
   "cell_type": "markdown",
   "metadata": {},
   "source": [
    "# Entropy gradients"
   ]
  },
  {
   "cell_type": "code",
   "execution_count": 5,
   "metadata": {},
   "outputs": [
    {
     "data": {
      "text/plain": [
       "test_grad_ent_her (generic function with 1 method)"
      ]
     },
     "execution_count": 5,
     "metadata": {},
     "output_type": "execute_result"
    }
   ],
   "source": [
    "## We use ForwardDiff to compute the grad of sum_free_ent(W'*Y) w.r.t to W\n",
    "## and compute the relative error with the grad from grad_sum_free_ent(W, Y)\n",
    "function test_grad_ent_her()\n",
    "    G = randn(10,10)\n",
    "    Y = [G + G', G*G']\n",
    "    W = randn(2,2)\n",
    "    e = rel_error(ForwardDiff.gradient(x -> sum_free_ent(x'*Y; mat_type = \"her\"), W)\n",
    "        , grad_sum_free_ent(W, Y; mat_type = \"her\"))\n",
    "    return e    \n",
    "end"
   ]
  },
  {
   "cell_type": "code",
   "execution_count": 6,
   "metadata": {},
   "outputs": [],
   "source": [
    "for idx = 1:10\n",
    "    @test test_grad_ent_her() < 1e-8\n",
    "end"
   ]
  },
  {
   "cell_type": "code",
   "execution_count": 7,
   "metadata": {},
   "outputs": [
    {
     "data": {
      "text/plain": [
       "test_grad_ent_rec (generic function with 1 method)"
      ]
     },
     "execution_count": 7,
     "metadata": {},
     "output_type": "execute_result"
    }
   ],
   "source": [
    "function test_grad_ent_rec()\n",
    "    s = 3\n",
    "    Y = [randn(10,20) for i = 1: s]\n",
    "    W = randn(s,s)\n",
    "    e = rel_error(ForwardDiff.gradient(x -> sum_free_ent(x'*Y; mat_type = \"rec\"), W)\n",
    "        , grad_sum_free_ent(W, Y; mat_type = \"rec\"))\n",
    "    return e    \n",
    "end"
   ]
  },
  {
   "cell_type": "code",
   "execution_count": 8,
   "metadata": {},
   "outputs": [],
   "source": [
    "for idx = 1:10\n",
    "    @test test_grad_ent_rec() < 1e-8\n",
    "end"
   ]
  },
  {
   "cell_type": "code",
   "execution_count": null,
   "metadata": {},
   "outputs": [],
   "source": []
  }
 ],
 "metadata": {
  "kernelspec": {
   "display_name": "Julia 1.0.3",
   "language": "julia",
   "name": "julia-1.0"
  },
  "language_info": {
   "file_extension": ".jl",
   "mimetype": "application/julia",
   "name": "julia",
   "version": "1.0.3"
  }
 },
 "nbformat": 4,
 "nbformat_minor": 2
}
