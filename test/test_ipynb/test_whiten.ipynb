{
 "cells": [
  {
   "cell_type": "markdown",
   "metadata": {
    "deletable": false,
    "editable": false,
    "jbook": {
     "class": "TextCell",
     "current_ui_view": "student",
     "readonly": true,
     "section_id": "section_0",
     "sources": {
      "student": "<h1>Table of Contents<span class=\"tocSkip\"></span></h1>\n<div class=\"toc\"><ul class=\"toc-item\"></ul></div>"
     }
    },
    "slideshow": {
     "slide_type": "slide"
    },
    "toc": true
   },
   "source": [
    "<h1>Table of Contents<span class=\"tocSkip\"></span></h1>\n",
    "<div class=\"toc\"><ul class=\"toc-item\"></ul></div>"
   ]
  },
  {
   "cell_type": "code",
   "execution_count": 1,
   "metadata": {
    "deletable": false,
    "jbook": {
     "class": "CodeCell",
     "current_ui_view": "student",
     "section_id": "section_0",
     "sources": {
      "student": "include(\"../src/free_whiten.jl\")\nusing Base.Test"
     }
    },
    "slideshow": {
     "slide_type": "slide"
    }
   },
   "outputs": [],
   "source": [
    "include(\"../src/free_whiten.jl\")\n",
    "using Test"
   ]
  },
  {
   "cell_type": "code",
   "execution_count": 19,
   "metadata": {},
   "outputs": [
    {
     "name": "stdout",
     "output_type": "stream",
     "text": [
      "\u001b[37m\u001b[1mTest Summary:                | \u001b[22m\u001b[39m\u001b[32m\u001b[1mPass  \u001b[22m\u001b[39m\u001b[36m\u001b[1mTotal\u001b[22m\u001b[39m\n",
      "Test mat_center function her | \u001b[32m  10  \u001b[39m\u001b[36m   10\u001b[39m\n",
      "\u001b[37m\u001b[1mTest Summary:                | \u001b[22m\u001b[39m\u001b[32m\u001b[1mPass  \u001b[22m\u001b[39m\u001b[36m\u001b[1mTotal\u001b[22m\u001b[39m\n",
      "Test mat_center function rec | \u001b[32m  10  \u001b[39m\u001b[36m   10\u001b[39m\n"
     ]
    },
    {
     "data": {
      "text/plain": [
       "2-element Array{Any,1}:\n",
       " Test.DefaultTestSet(\"Test mat_center function her\", Any[], 10, false)\n",
       " Test.DefaultTestSet(\"Test mat_center function rec\", Any[], 10, false)"
      ]
     },
     "execution_count": 19,
     "metadata": {},
     "output_type": "execute_result"
    }
   ],
   "source": [
    "@testset \"Test mat_center function $mat_type\" for mat_type in [\"her\", \"rec\"]\n",
    "    if mat_type == \"her\"\n",
    "        for idx = 1: 10\n",
    "            @test abs(tr(mat_center(randn(3,3); mat_type = mat_type))) <= 3*eps(Float64);\n",
    "        end\n",
    "    end\n",
    "    if mat_type == \"rec\"\n",
    "        for idx = 1: 10\n",
    "            @test sum(abs.(mean(mat_center(randn(3,3); mat_type =\"rec\"), dims = 2))) <= 3*eps(Float64)\n",
    "        end\n",
    "    end\n",
    "end"
   ]
  },
  {
   "cell_type": "code",
   "execution_count": 18,
   "metadata": {
    "deletable": false,
    "jbook": {
     "class": "CodeCell",
     "current_ui_view": "student",
     "section_id": "section_0",
     "sources": {
      "student": "# test the mat_center function\n# Hermitian case\n# the trace of output of mat_center with hermitian option should be zero\nfor idx = 1: 10\n    @show @test abs(trace(mat_center(randn(3,3), \"her\"))) <= 3*eps(Float64)\nend"
     }
    },
    "slideshow": {
     "slide_type": "slide"
    }
   },
   "outputs": [
    {
     "name": "stdout",
     "output_type": "stream",
     "text": [
      "\u001b[37m\u001b[1mTest Summary:                        | \u001b[22m\u001b[39m\u001b[32m\u001b[1mPass  \u001b[22m\u001b[39m\u001b[36m\u001b[1mTotal\u001b[22m\u001b[39m\n",
      "Test mat_center for Hermitian matrix | \u001b[32m  10  \u001b[39m\u001b[36m   10\u001b[39m\n"
     ]
    },
    {
     "data": {
      "text/plain": [
       "Test.DefaultTestSet(\"Test mat_center for Hermitian matrix\", Any[], 10, false)"
      ]
     },
     "execution_count": 18,
     "metadata": {},
     "output_type": "execute_result"
    }
   ],
   "source": [
    "# test the mat_center function\n",
    "# Hermitian case\n",
    "# the trace of output of mat_center with hermitian option should be zero\n",
    "\n",
    "@testset \"Test mat_center for Hermitian matrix\" begin\n",
    "    for idx = 1: 10\n",
    "        @test abs(tr(mat_center(randn(3,3); mat_type = \"her\"))) <= 3*eps(Float64);\n",
    "    end\n",
    "end"
   ]
  },
  {
   "cell_type": "code",
   "execution_count": 10,
   "metadata": {
    "deletable": false,
    "jbook": {
     "class": "CodeCell",
     "current_ui_view": "student",
     "section_id": "section_0",
     "sources": {
      "student": "# rectangular case\nfor idx = 1: 10\n    @show @test sum(abs.(mean(mat_center(randn(3,3), \"rec\"), 2))) <= 3*eps(Float64)\nend"
     }
    },
    "slideshow": {
     "slide_type": "slide"
    }
   },
   "outputs": [
    {
     "name": "stdout",
     "output_type": "stream",
     "text": [
      "\u001b[37m\u001b[1mTest Summary:                          | \u001b[22m\u001b[39m\u001b[32m\u001b[1mPass  \u001b[22m\u001b[39m\u001b[36m\u001b[1mTotal\u001b[22m\u001b[39m\n",
      "Test mat_center for rectangular matrix | \u001b[32m  10  \u001b[39m\u001b[36m   10\u001b[39m\n"
     ]
    },
    {
     "data": {
      "text/plain": [
       "Test.DefaultTestSet(\"Test mat_center for rectangular matrix\", Any[], 10, false)"
      ]
     },
     "execution_count": 10,
     "metadata": {},
     "output_type": "execute_result"
    }
   ],
   "source": [
    "# rectangular case\n",
    "@testset \"Test mat_center for rectangular matrix\" begin\n",
    "    for idx = 1: 10\n",
    "        @test sum(abs.(mean(mat_center(randn(3,3); mat_type =\"rec\"), dims = 2))) <= 3*eps(Float64)\n",
    "    end\n",
    "end"
   ]
  },
  {
   "cell_type": "code",
   "execution_count": 11,
   "metadata": {
    "deletable": false,
    "jbook": {
     "class": "CodeCell",
     "current_ui_view": "student",
     "section_id": "section_0",
     "sources": {
      "student": "# test free_whiten function\n# The covariance of the whitened data should be identity\n# Hermitian case\nfor idx = 1: 10\n    G = randn(10, 10)\n    Z = [G + G', G*G']\n    Y = free_whiten(Z, \"her\")[1]\n    @show @test maximum(abs.( trace.(Y*Y')./10 - eye(2))) < 10*eps(Float64)\nend"
     }
    },
    "slideshow": {
     "slide_type": "slide"
    }
   },
   "outputs": [
    {
     "name": "stdout",
     "output_type": "stream",
     "text": [
      "\u001b[37m\u001b[1mTest Summary:                         | \u001b[22m\u001b[39m\u001b[32m\u001b[1mPass  \u001b[22m\u001b[39m\u001b[36m\u001b[1mTotal\u001b[22m\u001b[39m\n",
      "Test free_whiten for Hermitian matrix | \u001b[32m  10  \u001b[39m\u001b[36m   10\u001b[39m\n"
     ]
    },
    {
     "data": {
      "text/plain": [
       "Test.DefaultTestSet(\"Test free_whiten for Hermitian matrix\", Any[], 10, false)"
      ]
     },
     "execution_count": 11,
     "metadata": {},
     "output_type": "execute_result"
    }
   ],
   "source": [
    "# test free_whiten function\n",
    "# The covariance of the whitened data should be identity\n",
    "# Hermitian case\n",
    "@testset \"Test free_whiten for Hermitian matrix\" begin\n",
    "    for idx = 1: 10\n",
    "        G = randn(10, 10)\n",
    "        Z = [G + G', G*G']\n",
    "        Y = free_whiten(Z; mat_type = \"her\")[1]\n",
    "        @test maximum(abs.( tr.(Y*Y')./10 - I)) < 10*eps(Float64)\n",
    "    end\n",
    "end"
   ]
  },
  {
   "cell_type": "code",
   "execution_count": 13,
   "metadata": {
    "deletable": false,
    "jbook": {
     "class": "CodeCell",
     "current_ui_view": "student",
     "section_id": "section_0",
     "sources": {
      "student": "# rectangular case\nfor idx = 1: 10\n    Z = [randn(10, 20) for i = 1: 3]\n    Y = free_whiten(Z, \"rec\")[1]\n    @show @test maximum(abs.( trace.(Y*Y')./10 - eye(3))) < 10*eps(Float64)\nend"
     }
    },
    "slideshow": {
     "slide_type": "slide"
    }
   },
   "outputs": [
    {
     "name": "stdout",
     "output_type": "stream",
     "text": [
      "\u001b[37m\u001b[1mTest Summary:                           | \u001b[22m\u001b[39m\u001b[32m\u001b[1mPass  \u001b[22m\u001b[39m\u001b[36m\u001b[1mTotal\u001b[22m\u001b[39m\n",
      "Test free_whiten for rectangular matrix | \u001b[32m  10  \u001b[39m\u001b[36m   10\u001b[39m\n"
     ]
    },
    {
     "data": {
      "text/plain": [
       "Test.DefaultTestSet(\"Test free_whiten for rectangular matrix\", Any[], 10, false)"
      ]
     },
     "execution_count": 13,
     "metadata": {},
     "output_type": "execute_result"
    }
   ],
   "source": [
    "# rectangular case\n",
    "@testset \"Test free_whiten for rectangular matrix\" begin\n",
    "    for idx = 1: 10\n",
    "        Z = [randn(10, 20) for i = 1: 3]\n",
    "        Y = free_whiten(Z; mat_type = \"rec\")[1]\n",
    "        @test maximum(abs.( tr.(Y*Y')./10 - I)) < 10*eps(Float64)\n",
    "    end\n",
    "end"
   ]
  },
  {
   "cell_type": "code",
   "execution_count": null,
   "metadata": {
    "deletable": false,
    "jbook": {
     "class": "CodeCell",
     "current_ui_view": "student",
     "section_id": "section_0",
     "sources": {
      "student": ""
     }
    },
    "slideshow": {
     "slide_type": "slide"
    }
   },
   "outputs": [],
   "source": []
  }
 ],
 "metadata": {
  "jbook": {
   "sections": [
    {
     "name": "section_0"
    }
   ]
  },
  "kernelspec": {
   "display_name": "Julia 1.0.3",
   "language": "julia",
   "name": "julia-1.0"
  },
  "language_info": {
   "file_extension": ".jl",
   "mimetype": "application/julia",
   "name": "julia",
   "version": "1.0.3"
  },
  "toc": {
   "base_numbering": 1,
   "nav_menu": {},
   "number_sections": true,
   "sideBar": true,
   "skip_h1_title": false,
   "title_cell": "Table of Contents",
   "title_sidebar": "Contents",
   "toc_cell": true,
   "toc_position": {},
   "toc_section_display": true,
   "toc_window_display": false
  }
 },
 "nbformat": 4,
 "nbformat_minor": 2
}
