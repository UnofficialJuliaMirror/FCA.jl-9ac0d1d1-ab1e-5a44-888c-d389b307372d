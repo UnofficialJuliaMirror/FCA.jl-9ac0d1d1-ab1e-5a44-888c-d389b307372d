{
 "cells": [
  {
   "cell_type": "markdown",
   "metadata": {
    "deletable": false,
    "editable": false,
    "jbook": {
     "class": "TextCell",
     "current_ui_view": "student",
     "readonly": true,
     "section_id": "section_0",
     "sources": {
      "student": "<h1>Table of Contents<span class=\"tocSkip\"></span></h1>\n<div class=\"toc\"><ul class=\"toc-item\"></ul></div>"
     }
    },
    "slideshow": {
     "slide_type": "slide"
    },
    "toc": true
   },
   "source": [
    "<h1>Table of Contents<span class=\"tocSkip\"></span></h1>\n",
    "<div class=\"toc\"><ul class=\"toc-item\"></ul></div>"
   ]
  },
  {
   "cell_type": "code",
   "execution_count": 4,
   "metadata": {
    "deletable": false,
    "jbook": {
     "class": "CodeCell",
     "current_ui_view": "student",
     "section_id": "section_0",
     "sources": {
      "student": "include(\"../src/embed.jl\")\nusing Base.Test"
     }
    },
    "slideshow": {
     "slide_type": "slide"
    }
   },
   "outputs": [],
   "source": [
    "include(\"../src/embed.jl\")\n",
    "using Test"
   ]
  },
  {
   "cell_type": "code",
   "execution_count": 5,
   "metadata": {
    "deletable": false,
    "jbook": {
     "class": "CodeCell",
     "current_ui_view": "student",
     "section_id": "section_0",
     "sources": {
      "student": "X = [1 2; 3 4]\n@show @test mat_embed(X, (2,3), zero_pos=[2, 3], in_type=\"rec\", out_type=\"rec\") == [1 0 2; 0 3 4]\n@show @test mat_embed(X, (3,2), zero_pos=[3, 4], in_type=\"rec\", out_type=\"rec\") == [1 0; 3 2; 0 4]\n@show @test mat_embed(X, (4,4), zero_pos=[3, 4], in_type=\"rec\", out_type=\"her\") == [0 1.0 3.0 0.0; 1.0 0 0.0 2.0; 3.0 0.0 0 4.0; 0.0 2.0 4.0 0]\n"
     }
    },
    "slideshow": {
     "slide_type": "slide"
    }
   },
   "outputs": [
    {
     "data": {
      "text/plain": [
       "\u001b[32m\u001b[1mTest Passed\u001b[22m\u001b[39m"
      ]
     },
     "execution_count": 5,
     "metadata": {},
     "output_type": "execute_result"
    }
   ],
   "source": [
    "X = [1 2; 3 4]\n",
    "@test mat_embed(X, (2,3), zero_pos=[2, 3], in_type=\"rec\", out_type=\"rec\") == [1 0 2; 0 3 4]\n",
    "@test mat_embed(X, (3,2), zero_pos=[3, 4], in_type=\"rec\", out_type=\"rec\") == [1 0; 3 2; 0 4]\n",
    "@test mat_embed(X, (4,4), zero_pos=[3, 4], in_type=\"rec\", out_type=\"her\") == [0 1.0 3.0 0.0; 1.0 0 0.0 2.0; 3.0 0.0 0 4.0; 0.0 2.0 4.0 0]\n"
   ]
  },
  {
   "cell_type": "code",
   "execution_count": null,
   "metadata": {
    "deletable": false,
    "jbook": {
     "class": "CodeCell",
     "current_ui_view": "student",
     "sources": {
      "student": ""
     }
    },
    "slideshow": {
     "slide_type": "slide"
    }
   },
   "outputs": [],
   "source": []
  }
 ],
 "metadata": {
  "jbook": {
   "sections": [
    {
     "name": "section_0"
    }
   ]
  },
  "kernelspec": {
   "display_name": "Julia 1.0.3",
   "language": "julia",
   "name": "julia-1.0"
  },
  "language_info": {
   "file_extension": ".jl",
   "mimetype": "application/julia",
   "name": "julia",
   "version": "1.0.3"
  },
  "toc": {
   "base_numbering": 1,
   "nav_menu": {},
   "number_sections": true,
   "sideBar": true,
   "skip_h1_title": false,
   "title_cell": "Table of Contents",
   "title_sidebar": "Contents",
   "toc_cell": true,
   "toc_position": {},
   "toc_section_display": true,
   "toc_window_display": false
  }
 },
 "nbformat": 4,
 "nbformat_minor": 2
}
