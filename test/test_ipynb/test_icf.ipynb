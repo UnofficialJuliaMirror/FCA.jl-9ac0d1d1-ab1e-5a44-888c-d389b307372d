{
 "cells": [
  {
   "cell_type": "code",
   "execution_count": 1,
   "metadata": {},
   "outputs": [],
   "source": [
    "include(\"../src/icf.jl\")\n",
    "using Test, ForwardDiff"
   ]
  },
  {
   "cell_type": "code",
   "execution_count": 2,
   "metadata": {},
   "outputs": [
    {
     "data": {
      "text/plain": [
       "rel_error (generic function with 1 method)"
      ]
     },
     "execution_count": 2,
     "metadata": {},
     "output_type": "execute_result"
    }
   ],
   "source": [
    "function rel_error(x, y)\n",
    "  \"\"\" returns relative error \"\"\"\n",
    "    return findmax(abs.(x - y) ./ (max.(1e-8, abs.(x) + abs.(y))))[1]\n",
    "end"
   ]
  },
  {
   "cell_type": "code",
   "execution_count": 3,
   "metadata": {},
   "outputs": [
    {
     "data": {
      "text/plain": [
       "\u001b[32m\u001b[1mTest Passed\u001b[22m\u001b[39m"
      ]
     },
     "execution_count": 3,
     "metadata": {},
     "output_type": "execute_result"
    }
   ],
   "source": [
    "# test for kurt(z)\n",
    "x = [-1,0,2,-1]\n",
    "@test kurt(x) == 18/4 - 3*(6/4)^2\n",
    "\n",
    "x = [0]\n",
    "@test kurt(x) == 0\n",
    "\n",
    "x = [2,1,3,-2,-1,-3]\n",
    "@test kurt(x) == mean(x.^4) - 3*mean(x.^2)^2"
   ]
  },
  {
   "cell_type": "code",
   "execution_count": 4,
   "metadata": {},
   "outputs": [],
   "source": [
    "# test for grad_neg_sum_kurt()\n",
    "for i = 1: 10\n",
    "    Z = [randn(1000) for i = 1: 3]\n",
    "    W = randn(3,3)\n",
    "    @test rel_error(ForwardDiff.gradient(x -> neg_abs_sum_kurt(x'*Z), W), grad_neg_abs_sum_kurt(W, Z)) < 1e-8\n",
    "end"
   ]
  },
  {
   "cell_type": "code",
   "execution_count": 5,
   "metadata": {},
   "outputs": [],
   "source": [
    "# test for icf\n",
    "# orthogonal mixing matrix\n",
    "T = 10000\n",
    "x = [randn(T) + 1*ones(T), rand(T) - 1*ones(T)]\n",
    "Q = Matrix(qr(randn(2,2)).Q)\n",
    "z = Q*x;"
   ]
  },
  {
   "cell_type": "code",
   "execution_count": null,
   "metadata": {},
   "outputs": [],
   "source": [
    "# using ica to recover Q,\n",
    "Qest = icf(z; opt_type = \"sphe\")[1]\n",
    "\n",
    "# Qest should recovers Q, thus pinv(Qest)*Q should be close to I (up to column permutation and sign flips)\n",
    "@show pinv(Qest)*Q;"
   ]
  },
  {
   "cell_type": "code",
   "execution_count": null,
   "metadata": {},
   "outputs": [],
   "source": [
    "# general mixing matrix\n",
    "A = randn(2,2)\n",
    "z = A*x\n",
    "\n",
    "# Aest should recovers A, thus pinv(Aest)*A should be close to I (up to column permutation and sign flips)\n",
    "Aest = icf(z)[1]\n",
    "@show pinv(Aest)*A;\n",
    "\n",
    "# Aest should recovers A, thus pinv(Aest)*A should be close to I (up to column permutation and sign flips)\n",
    "Aest = icf(z; opt_type = \"sphe\")[1]\n",
    "@show pinv(Aest)*A;"
   ]
  },
  {
   "cell_type": "code",
   "execution_count": null,
   "metadata": {},
   "outputs": [],
   "source": []
  }
 ],
 "metadata": {
  "kernelspec": {
   "display_name": "Julia 1.0.3",
   "language": "julia",
   "name": "julia-1.0"
  },
  "language_info": {
   "file_extension": ".jl",
   "mimetype": "application/julia",
   "name": "julia",
   "version": "1.0.3"
  }
 },
 "nbformat": 4,
 "nbformat_minor": 2
}
